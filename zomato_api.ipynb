{
 "cells": [
  {
   "cell_type": "markdown",
   "metadata": {},
   "source": [
    "# Importing Packages"
   ]
  },
  {
   "cell_type": "code",
   "execution_count": 8,
   "metadata": {},
   "outputs": [],
   "source": [
    "import requests\n",
    "from dotenv import load_dotenv\n",
    "import os\n",
    "import pandas as pd\n",
    "import json\n",
    "from sqlalchemy import create_engine\n",
    "import itertools"
   ]
  },
  {
   "cell_type": "markdown",
   "metadata": {},
   "source": [
    "# Load Environment Variables"
   ]
  },
  {
   "cell_type": "code",
   "execution_count": 2,
   "metadata": {},
   "outputs": [
    {
     "data": {
      "text/plain": [
       "True"
      ]
     },
     "execution_count": 2,
     "metadata": {},
     "output_type": "execute_result"
    }
   ],
   "source": [
    "# Load authentication data in .env file\n",
    "load_dotenv()"
   ]
  },
  {
   "cell_type": "markdown",
   "metadata": {},
   "source": [
    "# Get Categories Data"
   ]
  },
  {
   "cell_type": "code",
   "execution_count": 3,
   "metadata": {},
   "outputs": [],
   "source": [
    "def get_categories():\n",
    "    response = requests.get('https://developers.zomato.com/api/v2.1/categories', headers=HEADERS)\n",
    "    if response.status_code not in (200, 400):\n",
    "        raise Exception('Failed to get the data')\n",
    "    else:\n",
    "        return response.status_code, response.json()\n",
    "    \n",
    "def read_categories(json_data):\n",
    "    data = {idx:row['categories'] for idx, row in enumerate(json_data['categories'])}\n",
    "    return pd.DataFrame.from_dict(data, orient='index')"
   ]
  },
  {
   "cell_type": "markdown",
   "metadata": {},
   "source": [
    "# Get Cities Data"
   ]
  },
  {
   "cell_type": "code",
   "execution_count": 4,
   "metadata": {},
   "outputs": [],
   "source": [
    "def get_cities(list_cities):\n",
    "    params = {'q' : ','.join(list_cities)}\n",
    "    response = requests.get('https://developers.zomato.com/api/v2.1/cities', headers=HEADERS, params=params)\n",
    "    if response.status_code != 200:\n",
    "        raise Exception('Failed to get the data')\n",
    "    else:\n",
    "        return response.status_code, response.json()\n",
    "\n",
    "def read_cities(json_data):\n",
    "    data = {idx:row for idx, row in enumerate(json_data['location_suggestions'])}\n",
    "    return pd.DataFrame.from_dict(data, orient='index')"
   ]
  },
  {
   "cell_type": "markdown",
   "metadata": {},
   "source": [
    "# Get Collections Data"
   ]
  },
  {
   "cell_type": "code",
   "execution_count": 148,
   "metadata": {},
   "outputs": [],
   "source": [
    "def get_collections(list_city_id):\n",
    "    all_data = []\n",
    "    for record in list_city_id:\n",
    "        params = {'city_id' : record, 'count' : 1000}\n",
    "        response = requests.get('https://developers.zomato.com/api/v2.1/collections', headers=HEADERS, params=params)\n",
    "        if response.status_code != 200:\n",
    "            print(response.status_code)\n",
    "            print(response.text)\n",
    "            raise Exception('Failed to get the data')\n",
    "        else:\n",
    "            all_data.append(response.json())\n",
    "    return response.status_code, all_data\n",
    "\n",
    "\n",
    "def read_collections(json_data, list_city_id): \n",
    "    data = dict()\n",
    "    row = 0\n",
    "    for i in range(len(list_city_id)):\n",
    "        record = dict()\n",
    "        for j in range(len(json_data[i]['collections'])):\n",
    "            record.update({'city_id' : list_city_id[i]})\n",
    "            record.update(json_data[i]['collections'][j]['collection'])\n",
    "            data.update({row : record.copy()})\n",
    "            row += 1\n",
    "    return pd.DataFrame.from_dict(data, orient='index')"
   ]
  },
  {
   "cell_type": "markdown",
   "metadata": {},
   "source": [
    "# Get Restaurant Data"
   ]
  },
  {
   "cell_type": "code",
   "execution_count": 145,
   "metadata": {
    "scrolled": true
   },
   "outputs": [],
   "source": [
    "def get_search(list_city_id, list_collection_id):\n",
    "    pass\n",
    "#     params = {}\n",
    "#     response = requests.get('https://developers.zomato.com/api/v2.1/search', header=HEADERS, params=params)\n",
    "\n",
    "def read_search():\n",
    "    pass"
   ]
  },
  {
   "cell_type": "markdown",
   "metadata": {},
   "source": [
    "# Connect and Write to PostgreSQL"
   ]
  },
  {
   "cell_type": "code",
   "execution_count": 146,
   "metadata": {},
   "outputs": [],
   "source": [
    "def connect_db():\n",
    "    engine = create_engine(f\"postgresql+psycopg2://{os.getenv('db-user')}:{os.getenv('db-pwd')}@{os.getenv('db-host')}\")\n",
    "    conn = engine.connect()\n",
    "    return engine, conn\n",
    "\n",
    "def close_db(engine, conn):\n",
    "    conn.close()\n",
    "    engine.dispose()\n",
    "    \n",
    "def save_to_db(data, table_name):\n",
    "    engine, conn = connect_db()\n",
    "    data.to_sql(table_name, conn, if_exists='replace', index=False)\n",
    "    close_db(engine, conn)"
   ]
  },
  {
   "cell_type": "markdown",
   "metadata": {},
   "source": [
    "# Data Request Main Function"
   ]
  },
  {
   "cell_type": "code",
   "execution_count": 152,
   "metadata": {},
   "outputs": [],
   "source": [
    "HEADERS = headers = {'user-key' : os.getenv('user-key')}\n",
    "list_cities = ['Jakarta', 'Bandung', 'Bali']\n",
    "\n",
    "df_categories = read_categories(get_categories()[1])\n",
    "df_cities = read_cities(get_cities(list_cities)[1])\n",
    "df_collections = read_collections(get_collections(df_cities['id'])[1], df_cities['id'])\n",
    "\n",
    "save_to_db(df_collections, 'collections')"
   ]
  }
 ],
 "metadata": {
  "anaconda-cloud": {},
  "kernelspec": {
   "display_name": "zomato_api",
   "language": "python",
   "name": "zomato_api"
  },
  "language_info": {
   "codemirror_mode": {
    "name": "ipython",
    "version": 3
   },
   "file_extension": ".py",
   "mimetype": "text/x-python",
   "name": "python",
   "nbconvert_exporter": "python",
   "pygments_lexer": "ipython3",
   "version": "3.9.0"
  }
 },
 "nbformat": 4,
 "nbformat_minor": 4
}
